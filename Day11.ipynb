{
  "nbformat": 4,
  "nbformat_minor": 0,
  "metadata": {
    "colab": {
      "provenance": []
    },
    "kernelspec": {
      "name": "python3",
      "display_name": "Python 3"
    },
    "language_info": {
      "name": "python"
    }
  },
  "cells": [
    {
      "cell_type": "code",
      "execution_count": null,
      "metadata": {
        "colab": {
          "base_uri": "https://localhost:8080/"
        },
        "id": "8bmfjzdyJ9gn",
        "outputId": "1b808bf4-e474-4039-a782-5abd9147120b"
      },
      "outputs": [
        {
          "output_type": "stream",
          "name": "stdout",
          "text": [
            "enter 1st no:5\n",
            "enter 2nd no:2\n",
            "enter operator [+ - * / %]:/\n",
            "5.0 / 2.0 = 2.5\n"
          ]
        }
      ],
      "source": [
        "num1=float (input (\"enter 1st no:\"))\n",
        "num2=float (input (\"enter 2nd no:\"))\n",
        "op=input(\"enter operator [+ - * / %]:\")\n",
        "result=0\n",
        "if op=='+':\n",
        "   result=num1+num2\n",
        "elif op=='-':\n",
        "   result=num1*num2\n",
        "elif op=='/':\n",
        "   result=num1/num2\n",
        "elif op=='%':\n",
        "   result=num1%num2\n",
        "else:\n",
        "   print (\"invalid operator!!\")\n",
        "print (num1,op,num2,'=', result)"
      ]
    },
    {
      "cell_type": "code",
      "source": [
        "a=100\n",
        "b=70\n",
        "c=50\n",
        "if a==b==c is 100:\n",
        "   print (\"same\")\n",
        "else:\n",
        "   print (\"above not same\")"
      ],
      "metadata": {
        "id": "pBRNVUc2NDn8",
        "colab": {
          "base_uri": "https://localhost:8080/"
        },
        "outputId": "3dc507e4-f22b-4713-df4d-1a8d87604e00"
      },
      "execution_count": null,
      "outputs": [
        {
          "output_type": "stream",
          "name": "stdout",
          "text": [
            "above not same\n"
          ]
        },
        {
          "output_type": "stream",
          "name": "stderr",
          "text": [
            "<>:4: SyntaxWarning: \"is\" with a literal. Did you mean \"==\"?\n",
            "<>:4: SyntaxWarning: \"is\" with a literal. Did you mean \"==\"?\n",
            "<ipython-input-11-7bea02338747>:4: SyntaxWarning: \"is\" with a literal. Did you mean \"==\"?\n",
            "  if a==b==c is 100:\n"
          ]
        }
      ]
    },
    {
      "cell_type": "code",
      "source": [
        "number=0\n",
        "if number>0:\n",
        "   print (\"positive number\")\n",
        "elif number==0:\n",
        "   print (\"zero\")\n",
        "else:\n",
        "   print (\"negative number \")\n",
        "print (\"this statement is executed \")"
      ],
      "metadata": {
        "colab": {
          "base_uri": "https://localhost:8080/"
        },
        "id": "JodSslJJnIv4",
        "outputId": "95935817-4ed5-4d68-9186-3f45d3e0cba3"
      },
      "execution_count": null,
      "outputs": [
        {
          "output_type": "stream",
          "name": "stdout",
          "text": [
            "zero\n",
            "this statement is executed \n"
          ]
        }
      ]
    },
    {
      "cell_type": "code",
      "source": [
        "x,y,z=5,10,15\n",
        "if x>y:\n",
        "  print (\"x is greater\")\n",
        "elif y>z:\n",
        "  if y<x:\n",
        "     print (\"y is greater \")\n",
        "  else:\n",
        "     print (\"x is greater\")\n",
        "else:\n",
        "    print (\"all invalid\")"
      ],
      "metadata": {
        "colab": {
          "base_uri": "https://localhost:8080/"
        },
        "id": "gwsHW1RyojPh",
        "outputId": "fff1e0fb-151c-4983-f894-7459ceaf640a"
      },
      "execution_count": null,
      "outputs": [
        {
          "output_type": "stream",
          "name": "stdout",
          "text": [
            "all invalid\n"
          ]
        }
      ]
    },
    {
      "cell_type": "code",
      "source": [
        "x=input (\"enter 1st no\")\n",
        "y=input (\"enter 2nd no\")\n",
        "op=\"operator [+ - *]\"\n",
        "if op=='+':\n",
        "  result (x+y)\n",
        "  if result == 15:\n",
        "    print (\"true \")\n",
        "  else:\n",
        "    print (\"false \")\n",
        "elif op=='-':\n",
        "   result (x-y)\n",
        "   if result == 15:\n",
        "     print(\"trueee\")\n",
        "   else: \n",
        "     print (\"false\")\n",
        "else:\n",
        "  print (\"all invalid \")"
      ],
      "metadata": {
        "colab": {
          "base_uri": "https://localhost:8080/"
        },
        "id": "UDNxpz2_rBe2",
        "outputId": "3f2d7793-0e18-455b-fb5c-1d9f6a4381ed"
      },
      "execution_count": null,
      "outputs": [
        {
          "output_type": "stream",
          "name": "stdout",
          "text": [
            "enter 1st no5\n",
            "enter 2nd no10\n",
            "all invalid \n"
          ]
        }
      ]
    },
    {
      "cell_type": "code",
      "source": [
        "a,b,c=10,20,30\n",
        "if a==b:\n",
        "  print (\"true\")\n",
        "  if a<c:\n",
        "    print (\"true\")\n",
        "  else:\n",
        "    print (\"false\")\n",
        "elif a<b&c<b==\"1\":\n",
        "    print (\"true\")\n",
        "elif a>b|c>a==\"0\":\n",
        "    print (\"false\")\n",
        "elif a<b|b<c==\"1\":\n",
        "    print (\"true\")"
      ],
      "metadata": {
        "id": "PmsMyS-O2G2-"
      },
      "execution_count": null,
      "outputs": []
    }
  ]
}